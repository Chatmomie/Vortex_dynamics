{
  "cells": [
    {
      "cell_type": "markdown",
      "metadata": {
        "id": "view-in-github",
        "colab_type": "text"
      },
      "source": [
        "<a href=\"https://colab.research.google.com/github/Chatmomie/Vortex_dynamics/blob/main/MU5MEF06_Vortex/vortex_dynamics(2).ipynb\" target=\"_parent\"><img src=\"https://colab.research.google.com/assets/colab-badge.svg\" alt=\"Open In Colab\"/></a>"
      ]
    },
    {
      "cell_type": "code",
      "execution_count": null,
      "metadata": {
        "colab": {
          "base_uri": "https://localhost:8080/",
          "height": 36
        },
        "id": "Wq6CtLlcnGrj",
        "outputId": "1d9bb159-e47a-40df-d430-ed1eac222227"
      },
      "outputs": [
        {
          "data": {
            "text/html": [
              "<script>\n",
              "code_show=true; \n",
              "function code_toggle() {\n",
              " if (code_show){\n",
              " $('div.input').hide();\n",
              " } else {\n",
              " $('div.input').show();\n",
              " }\n",
              " code_show = !code_show\n",
              "} \n",
              "$( document ).ready(code_toggle);\n",
              "</script>\n",
              "<form action=\"javascript:code_toggle()\"><input type=\"submit\" value=\"Click here to toggle on/off the raw code.\"></form>"
            ],
            "text/plain": [
              "<IPython.core.display.HTML object>"
            ]
          },
          "execution_count": 1,
          "metadata": {},
          "output_type": "execute_result"
        }
      ],
      "source": [
        "from IPython.display import HTML\n",
        "\n",
        "HTML('''<script>\n",
        "code_show=true;\n",
        "function code_toggle() {\n",
        " if (code_show){\n",
        " $('div.input').hide();\n",
        " } else {\n",
        " $('div.input').show();\n",
        " }\n",
        " code_show = !code_show\n",
        "}\n",
        "$( document ).ready(code_toggle);\n",
        "</script>\n",
        "<form action=\"javascript:code_toggle()\"><input type=\"submit\" value=\"Click here to toggle on/off the raw code.\"></form>''')"
      ]
    },
    {
      "cell_type": "code",
      "source": [],
      "metadata": {
        "id": "E9ziR2Hl4aIk"
      },
      "execution_count": 33,
      "outputs": []
    },
    {
      "cell_type": "markdown",
      "metadata": {
        "id": "x5p3Q8RRzAAt"
      },
      "source": [
        "## Dynamics of point vortices - Computer session"
      ]
    },
    {
      "cell_type": "markdown",
      "metadata": {
        "id": "SY9H5n3xzAAu"
      },
      "source": [
        "## Biot-Savart function"
      ]
    },
    {
      "cell_type": "code",
      "execution_count": 34,
      "metadata": {
        "id": "qmDjkAMszAAv"
      },
      "outputs": [],
      "source": [
        "\"\"\"\n",
        "@author: Ivan Delbende\n",
        "(C) Sorbonne University 2021\n",
        "\"\"\"\n",
        "\n",
        "import numpy as np\n",
        "import matplotlib.pyplot as plt\n",
        "from matplotlib import animation, rc\n",
        "from copy import deepcopy\n",
        "from IPython.display import HTML\n",
        "\n",
        "\n",
        "def velo_BS(xv,yv,cv,delta2):\n",
        "    \"\"\"\n",
        "    # Returns 2D Biot-Savart velocity components vx,vy\n",
        "    # Input: xv,yv   vortex positions;\n",
        "    #        cv      vortex circulations;\n",
        "    #        delta2  Rosenhead desingularisation parameter;\n",
        "    \"\"\"\n",
        "    nv = np.size(xv)\n",
        "    us2pi = 1./(2*np.pi)              # Constant 1/2pi\n",
        "    vx = np.zeros((nv),float)\n",
        "    vy = np.zeros((nv),float)\n",
        "    for i in range(nv):\n",
        "       lvx=0; lvy=0;\n",
        "       for j in range(nv):\n",
        "           if i != j:\n",
        "               coef=cv[j]*us2pi/((xv[i]-xv[j])**2+(yv[i]-yv[j])**2+delta2);\n",
        "               lvx=lvx-coef*(yv[i]-yv[j]);\n",
        "               lvy=lvy+coef*(xv[i]-xv[j]);\n",
        "       vx[i]=lvx\n",
        "       vy[i]=lvy\n",
        "    return vx,vy"
      ]
    },
    {
      "cell_type": "markdown",
      "metadata": {
        "id": "obv9259KzAAx"
      },
      "source": [
        "## Physical parameters"
      ]
    },
    {
      "cell_type": "code",
      "execution_count": null,
      "metadata": {
        "id": "moTo806VzAAy"
      },
      "outputs": [],
      "source": [
        "# Number of vortices\n",
        "nv = 2\n",
        "# La demi distance entre 2 vortex\n",
        "b=1\n",
        "# placed on a circle of radius\n",
        "radius = b\n",
        "\n",
        "# Vortex circulations\n",
        "# circ = 0.5                     # Ref circ\n",
        "# cv = circ*np.ones((nv),float)\n",
        "\n",
        "# Dipole vortex Q2a\n",
        "circ1 = -1\n",
        "circ2=1\n",
        "cv = np.array([circ1,circ2])\n",
        "\n",
        "#Dipole Q2b\n",
        "# circ1 = 0.5\n",
        "# circ2=0.5\n",
        "# cv = np.array([circ1,circ2])\n",
        "\n",
        "#N vortex Q2c\n",
        "# circ1 = 1/nv\n",
        "# circ2=1/nv\n",
        "# circ3 = 1/nv\n",
        "# circ4=1/nv\n",
        "# circ5=1/nv\n",
        "# circ6=1/nv\n",
        "# cv = np.array([circ1,circ2,circ3,circ4,circ5,circ6])\n",
        "\n",
        "\n",
        "#N=10 vortex\n",
        "# circ=1/nv\n",
        "# cv = circ*np.ones((nv),float)\n",
        "\n",
        "#QUESTION E\n",
        "# circ1 = 1\n",
        "# circ2=1/2\n",
        "# circ3 = -1/3\n",
        "# cv = np.array([circ1,circ2,circ3])\n",
        "\n",
        "# Vortex initial positions\n",
        "xv = np.zeros((nv),float)\n",
        "yv = np.zeros((nv),float)\n",
        "xv = xv + radius*np.cos(2*np.pi*np.arange(nv)/nv)\n",
        "yv = yv + radius*np.sin(2*np.pi*np.arange(nv)/nv)\n",
        "# xv[0]=xv[0]+b/1000\n",
        "\n",
        "# xv=np.array([0,1,1])\n",
        "# yv=np.array([0,0,1/np.sqrt(3)])"
      ]
    },
    {
      "cell_type": "markdown",
      "metadata": {
        "id": "-43xl9nXzAAz"
      },
      "source": [
        "## Numerical parameters"
      ]
    },
    {
      "cell_type": "code",
      "execution_count": null,
      "metadata": {
        "colab": {
          "base_uri": "https://localhost:8080/"
        },
        "id": "04p6Df8YzAA0",
        "outputId": "24376f46-1931-4079-d19e-a516a976b4a5"
      },
      "outputs": [
        {
          "name": "stdout",
          "output_type": "stream",
          "text": [
            "dts =  0.125\n",
            "delta2 =  0.0001\n"
          ]
        }
      ],
      "source": [
        "#Initial time\n",
        "ts = 0\n",
        "\n",
        "# Time step # It is up to you to check convergence (change dts)\n",
        "dts = 0.25 * radius / np.sum(abs(cv))\n",
        "# dts=0.05\n",
        "print(\"dts = \", dts)\n",
        "\n",
        "# Rosenhead desingularisation (useful for vortex sheets)\n",
        "delta2 = (radius/100)**2\n",
        "print('delta2 = ', delta2)"
      ]
    },
    {
      "cell_type": "markdown",
      "metadata": {
        "id": "0wi7AmhEzAA3"
      },
      "source": [
        "## Visualisation/output parameters"
      ]
    },
    {
      "cell_type": "code",
      "execution_count": null,
      "metadata": {
        "id": "Pz_yfZcmzAA3"
      },
      "outputs": [],
      "source": [
        "# Window extent\n",
        "xmin = -3 ; xmax = 3 ; ymin = -2 ; ymax = 2\n",
        "\n",
        "# Plot vortices and/or trajectories?\n",
        "plot_vort = True  # True or False\n",
        "plot_traj = True  # True or False\n",
        "movie_filename = 'Vortex_dynamics/MU5MEF06_Vortex/traj.mp4'\n",
        "\n",
        "# Store results in file?\n",
        "store_res = True # True or False\n",
        "filename  = 'traj.dat'"
      ]
    },
    {
      "cell_type": "markdown",
      "metadata": {
        "id": "_5UdEpIqzAA4"
      },
      "source": [
        "## Numerical integration (4th order Runge-Kutta)"
      ]
    },
    {
      "cell_type": "code",
      "execution_count": null,
      "metadata": {
        "colab": {
          "base_uri": "https://localhost:8080/"
        },
        "id": "qbR4vNAMzAA4",
        "outputId": "5baf3f3d-1a27-4811-9f83-d7f4921d496e"
      },
      "outputs": [
        {
          "name": "stdout",
          "output_type": "stream",
          "text": [
            "----------------------------------------------------\n",
            "Dynamics of  2  point vortices\n",
            "----------------------------------------------------\n",
            "Time integration btw t = 0 and t =   30\n",
            "Time integration\n"
          ]
        }
      ],
      "source": [
        "################ Input final time #################\n",
        "print(\"----------------------------------------------------\")\n",
        "print(\"Dynamics of \", nv, \" point vortices\")\n",
        "print(\"----------------------------------------------------\")\n",
        "# tfinal = float(input(\"Time integration btw t = 0 and t = ? \"))\n",
        "tfinal=30\n",
        "print(\"Time integration btw t = 0 and t =  \", tfinal)\n",
        "ntmax = int(round((tfinal-ts)/dts));\n",
        "\n",
        "################ Initializations #################\n",
        "print(\"Time integration\")\n",
        "# init traj storage\n",
        "x = xv.copy()\n",
        "y = yv.copy()\n",
        "t = 0\n",
        "\n",
        "# init Runge-Kutta\n",
        "k1x = np.zeros((nv),float)\n",
        "k1y = np.zeros((nv),float)\n",
        "k2x = np.zeros((nv),float)\n",
        "k2y = np.zeros((nv),float)\n",
        "k3x = np.zeros((nv),float)\n",
        "k3y = np.zeros((nv),float)\n",
        "k4x = np.zeros((nv),float)\n",
        "k4y = np.zeros((nv),float)\n",
        "\n",
        "################## Time loop: 4th-order Runge-Kutta ####################\n",
        "########################################################################\n",
        "for it in range(ntmax):\n",
        "     #Time advance RK4\n",
        "     k1x,k1y = velo_BS(xv,yv,cv,delta2)\n",
        "     k2x,k2y = velo_BS(xv+0.5*dts*k1x,yv+0.5*dts*k1y,cv,delta2)\n",
        "     k3x,k3y = velo_BS(xv+0.5*dts*k2x,yv+0.5*dts*k2y,cv,delta2)\n",
        "     k4x,k4y = velo_BS(xv+dts*k3x,yv+dts*k3y,cv,delta2)\n",
        "     xv = xv + dts*(k1x+2*k2x+2*k3x+k4x)/6.\n",
        "     yv = yv + dts*(k1y+2*k2y+2*k3y+k4y)/6.\n",
        "     ts = ts + dts\n",
        "\n",
        "     # Accumulate results\n",
        "     x=np.vstack((x,xv))\n",
        "     y=np.vstack((y,yv))\n",
        "     t=np.append(t,ts)"
      ]
    },
    {
      "cell_type": "markdown",
      "metadata": {
        "id": "Y1RnPIN2zAA6"
      },
      "source": [
        "## Animation and/or file output"
      ]
    },
    {
      "cell_type": "code",
      "execution_count": null,
      "metadata": {
        "colab": {
          "base_uri": "https://localhost:8080/",
          "height": 500
        },
        "id": "PrrksdmWzAA6",
        "outputId": "5fe92d60-ebc3-489f-c7ce-23014dd909fd"
      },
      "outputs": [
        {
          "name": "stdout",
          "output_type": "stream",
          "text": [
            "Writing data file traj.dat\n",
            "Building animation\n",
            "Writing animation file traj.mp4\n",
            "*** Type 'out' to see the animation ***\n",
            "Done\n"
          ]
        },
        {
          "data": {
            "image/png": "[encoded data removed]",
            "text/plain": [
              "<Figure size 432x288 with 1 Axes>"
            ]
          },
          "metadata": {
            "needs_background": "light"
          },
          "output_type": "display_data"
        }
      ],
      "source": [
        "# File output\n",
        "if store_res:\n",
        "    print(\"Writing data file \"+filename)\n",
        "    f = open(filename, \"w\", newline='')\n",
        "    for n in range(np.shape(t)[0]):\n",
        "        f.write('{:8.4f} '.format(t[n]))\n",
        "        for i in range(nv):\n",
        "            f.write('{:12.6f} {:12.6f} '.format(x[n,i],y[n,i]))\n",
        "        f.write('\\n')\n",
        "    f.close()\n",
        "\n",
        "# Animation\n",
        "def init():\n",
        "    if plot_vort:\n",
        "        for dot in dots:\n",
        "            dot.set_data([],[])\n",
        "    if plot_traj:\n",
        "        for line in lines:\n",
        "            line.set_data([],[])\n",
        "    return tuple(dots) + tuple(lines)\n",
        "\n",
        "def drawframe(n):\n",
        "    if plot_vort:\n",
        "        for i,dot in enumerate(dots):\n",
        "            dot.set_data([x[n,i]],[y[n,i]])\n",
        "    if plot_traj:\n",
        "        for i,line in enumerate(lines):\n",
        "            line.set_data(x[1:n,i],y[1:n,i])\n",
        "    txt_title.set_text('t = ' + '{:.2f}'.format(t[n]))\n",
        "    return tuple(dots) + tuple(lines) + (txt_title,)\n",
        "\n",
        "if plot_vort or plot_traj:\n",
        "    print(\"Building animation\")\n",
        "    fig, ax = plt.subplots()\n",
        "    ax.axis('square')\n",
        "    ax.set_xlim(xmin,xmax)\n",
        "    ax.set_ylim(ymin,ymax)\n",
        "    txt_title = ax.set_title('')\n",
        "    dots=[];lines=[]\n",
        "    for i in range(nv):\n",
        "        vort, = ax.plot([], [], marker='o',markersize=4)\n",
        "        traj, = ax.plot([], [])\n",
        "        dots.append(vort)\n",
        "        lines.append(traj)\n",
        "    anim = animation.FuncAnimation(fig, drawframe, init_func=init, frames=range(np.shape(t)[0]), interval=20, blit=True)\n",
        "    print(\"Writing animation file \" + movie_filename)\n",
        "    anim.save(movie_filename)\n",
        "    out=HTML(anim.to_html5_video())\n",
        "    print(\"*** Type 'out' to see the animation ***\")\n",
        "\n",
        "print(\"Done\")"
      ]
    },
    {
      "cell_type": "code",
      "execution_count": null,
      "metadata": {
        "colab": {
          "background_save": true
        },
        "id": "9s20p1XVzAA6",
        "outputId": "a349b2a2-dfa5-46a9-ac32-f00b511e61f8"
      },
      "outputs": [
        {
          "data": {
            "text/html": [
              "<video controls  >\n",
              " <source src=\"data:video/mp4;base64,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\" type=\"video/mp4\">\n",
              " Your browser does not support the video tag.\n",
              " </video>"
            ],
            "text/plain": [
              "<IPython.core.display.Video object>"
            ]
          },
          "execution_count": 7,
          "metadata": {},
          "output_type": "execute_result"
        }
      ],
      "source": [
        "from IPython.display import Video\n",
        "\n",
        "# Chemin vers votre fichier vidéo\n",
        "video_path = \"traj.mp4\"\n",
        "\n",
        "# Affiche la vidéo\n",
        "Video(video_path, embed=True)\n"
      ]
    },
    {
      "cell_type": "markdown",
      "metadata": {
        "id": "YdftmqRAndY6"
      },
      "source": [
        "---\n",
        "# Partie Devoir\n",
        "\n",
        "<h1><b>Rapport de la session 1</b></h1>\n",
        "\n",
        "<p align=\"right\">\n",
        "  <b>ETEMADI DEILAMI Neguine & ZHENG Lina</b><br>\n",
        "  <b>Classe :</b> MU5MEF06 : Vortex Dynamics<br>\n",
        "  <b>Année :</b> 2024-2025\n",
        "</p>"
      ]
    },
    {
      "cell_type": "markdown",
      "metadata": {
        "id": "2USPsbn-qcTm"
      },
      "source": [
        "## Question 1\n",
        "**1. Quelle formule est-elle codée dans la fonction velo_BS ?**\n",
        "\n",
        "\n"
      ]
    },
    {
      "cell_type": "code",
      "execution_count": null,
      "metadata": {
        "id": "yKT_fsY0y3pz"
      },
      "outputs": [],
      "source": []
    },
    {
      "cell_type": "markdown",
      "metadata": {
        "id": "Ge5Lj-dcqAVh"
      },
      "source": [
        "## Question 2a\n",
        "> On considère un dipôle (2 vortex contra-rotatifs) de circulation $|\\Gamma|  = 1$\n",
        "On fixe la ditance entre les vortex à $R_{12}=2b$ avec b fixé $b=1$.   \n",
        "\n",
        ">On s'attend à ce que les 2 vortex se deplacent en mouvement de transaltion uniforme, dont la vitesse vaut :\n",
        "$\\displaystyle V = \\frac{|\\Gamma|}{2 \\pi R_{12}}  $   \n",
        "\n",
        ">A.N. : $V = \\frac{1}{2 \\pi \\cdot2\\cdot1 } \\approx 0.08 $m.s<sup>-1</sup>\n",
        "\n",
        ">On obtient les résultats numériques suivant :"
      ]
    },
    {
      "cell_type": "markdown",
      "metadata": {
        "id": "O1CjVTkFr4fg"
      },
      "source": [
        "\\> <u>Trajectroire Video</u>"
      ]
    },
    {
      "cell_type": "code",
      "execution_count": null,
      "metadata": {
        "scrolled": true,
        "id": "iXhmX0_4y3pz",
        "outputId": "ab9ff766-4656-4021-bd0b-52a062f4e982",
        "colab": {
          "base_uri": "https://localhost:8080/",
          "height": 171
        }
      },
      "outputs": [
        {
          "output_type": "execute_result",
          "data": {
            "text/plain": [
              "<IPython.core.display.Video object>"
            ],
            "text/html": [
              "<video controls  >\n",
              " <source src=\"data:None;base64,Q2a/Q2_a.mp4\" type=\"None\">\n",
              " Your browser does not support the video tag.\n",
              " </video>"
            ]
          },
          "metadata": {},
          "execution_count": 1
        }
      ],
      "source": [
        "from IPython.display import Video\n",
        "\n",
        "# Chemin vers votre fichier vidéo\n",
        "video_path = \"Q2a/Q2_a.mp4\"\n",
        "\n",
        "# Affiche la vidéo\n",
        "Video(video_path, embed=True)"
      ]
    },
    {
      "cell_type": "markdown",
      "metadata": {
        "id": "-0EmKFdny3p0"
      },
      "source": [
        "\\> <u>Trajectroire </u>"
      ]
    },
    {
      "cell_type": "code",
      "execution_count": null,
      "metadata": {
        "id": "iRmYqkgRy3p0"
      },
      "outputs": [],
      "source": [
        "# Chargement des données\n",
        "data = np.loadtxt(\"traj.dat\",  dtype=float)\n",
        "t = data[:, 0] # time\n",
        "# Coordonnées\n",
        "i = 1\n",
        "x = data[:,i].reshape(-1,1)      # Vertical array\n",
        "y = data[:,i+1].reshape(-1,1)    # Vertical array\n",
        "for it in range(int((data.shape[1]-1)/2)-1):\n",
        "    i += 2\n",
        "    x = np.hstack((x, data[:,i].reshape(-1,1)))\n",
        "    y = np.hstack((y, data[:,i+1].reshape(-1,1)))\n",
        "\n",
        "# Distance entre les deux vortex\n",
        "R12 = 2\n",
        "# Circulation des 2 vortex\n",
        "circ1 = 1\n",
        "circ2 = -1"
      ]
    },
    {
      "cell_type": "code",
      "execution_count": null,
      "metadata": {
        "id": "7yTgr6IFy3p0",
        "outputId": "9782ce9a-6526-4cbd-a4b0-5e4bdb6d38d9"
      },
      "outputs": [
        {
          "data": {
            "text/plain": [
              "[]"
            ]
          },
          "execution_count": 138,
          "metadata": {},
          "output_type": "execute_result"
        },
        {
          "data": {
            "image/png": "[encoded data removed]",
            "text/plain": [
              "<Figure size 432x288 with 1 Axes>"
            ]
          },
          "metadata": {
            "needs_background": "light"
          },
          "output_type": "display_data"
        }
      ],
      "source": [
        "#Taille de fenetre\n",
        "xmin = -3 ; xmax = 3 ; ymin = -2 ; ymax = 2\n",
        "\n",
        "#Plot trajectoire\n",
        "plt.figure()\n",
        "plt.xlim(xmin, xmax)\n",
        "plt.ylim(ymin, ymax)\n",
        "plt.plot(x[:,0],y[:,0] )\n",
        "plt.plot(x[:,1],y[:,1] )\n",
        "plt.title (f\"Trajectoire au temps t = {t[-1]}\")\n",
        "plt.xlabel(\"x\")\n",
        "plt.ylabel(\"y\")\n",
        "plt.grid();\n",
        "# plt.legend()\n",
        "plt.plot()"
      ]
    },
    {
      "cell_type": "markdown",
      "metadata": {
        "id": "LESzJqtRy3p1"
      },
      "source": [
        ">On retrouve bien un deplacement en translation perpendiculaire à l'axe de deux vortex.    \n",
        "On vérifie que ce déplacement translation uniforme correspond à la vitesse thérorique."
      ]
    },
    {
      "cell_type": "code",
      "execution_count": null,
      "metadata": {
        "colab": {
          "background_save": true
        },
        "id": "rsKGvcDMzAA7"
      },
      "outputs": [],
      "source": [
        "dt = np.diff(t)\n",
        "vx = np.diff(x[:,0])/dt\n",
        "vy = np.diff(y[:,0])/dt\n",
        "v_moy = (vx+vy)/2\n",
        "\n",
        "v_theo=circ1/(2*np.pi*R12) * np.ones(vx.shape)"
      ]
    },
    {
      "cell_type": "code",
      "execution_count": null,
      "metadata": {
        "colab": {
          "background_save": true
        },
        "id": "7m0MJhd2zAA7",
        "outputId": "fda2ea69-c680-41ba-c15b-7b879e3dc641"
      },
      "outputs": [
        {
          "data": {
            "image/png": "[encoded data removed]",
            "text/plain": [
              "<Figure size 432x288 with 1 Axes>"
            ]
          },
          "metadata": {
            "needs_background": "light"
          },
          "output_type": "display_data"
        }
      ],
      "source": [
        "plt.figure()\n",
        "# plt.plot(vx,t[:-1],label='V_x num')\n",
        "# plt.plot(vy,t[:-1],label='V_y num')\n",
        "plt.plot(t[:-1],v_theo, 'r-',label='V theorique')\n",
        "plt.plot(t[:-1],v_moy, '--',  label='V_moy')\n",
        "plt.ylim([0, 0.1])\n",
        "plt.legend()\n",
        "plt.grid()"
      ]
    },
    {
      "cell_type": "markdown",
      "metadata": {
        "id": "s50Oi32ey3p1"
      },
      "source": [
        "> On trouve que la vitesse obtenue avec la simulation est 2 plus de petite que la vitesse de théorique."
      ]
    },
    {
      "cell_type": "code",
      "execution_count": null,
      "metadata": {
        "id": "EO_d-5ray3p1"
      },
      "outputs": [],
      "source": []
    }
  ],
  "metadata": {
    "colab": {
      "provenance": [],
      "include_colab_link": true
    },
    "kernelspec": {
      "display_name": "Python 3 (ipykernel)",
      "language": "python",
      "name": "python3"
    },
    "language_info": {
      "codemirror_mode": {
        "name": "ipython",
        "version": 3
      },
      "file_extension": ".py",
      "mimetype": "text/x-python",
      "name": "python",
      "nbconvert_exporter": "python",
      "pygments_lexer": "ipython3",
      "version": "3.9.7"
    }
  },
  "nbformat": 4,
  "nbformat_minor": 0
}